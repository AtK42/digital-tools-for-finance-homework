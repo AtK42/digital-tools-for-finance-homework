{
 "cells": [
  {
   "cell_type": "markdown",
   "metadata": {},
   "source": [
    "# Effect of prominent Macroeconomic factors on the Housing Price Index in the United States"
   ]
  },
  {
   "cell_type": "markdown",
   "metadata": {},
   "source": [
    "## Load Packages"
   ]
  },
  {
   "cell_type": "code",
   "execution_count": 1,
   "metadata": {},
   "outputs": [],
   "source": [
    "import os\n",
    "import pandas as pd\n",
    "import numpy as np\n",
    "import seaborn as sns\n",
    "import matplotlib.pyplot as plt\n",
    "import sklearn\n",
    "from sklearn.model_selection import train_test_split\n",
    "from sklearn.metrics import r2_score"
   ]
  },
  {
   "cell_type": "markdown",
   "metadata": {},
   "source": [
    "## Load Data"
   ]
  },
  {
   "cell_type": "markdown",
   "metadata": {},
   "source": [
    "### Purchase only house price index\n",
    "asdf\n",
    "### Unemployment rate\n",
    "asdf\n",
    "### Consumer price index\n",
    "asdf\n",
    "### Inflation rate US\n",
    "asdf\n",
    "### Consumer sentiment\n",
    "asdf\n",
    "### Producer price index construction machinery manufacturing\n",
    "asdf\n",
    "### Average mortgage interest\n",
    "asdf\n",
    "### Personal income\n",
    "asdf\n",
    "### Moody's seasoned AAA corporate bond yield\n",
    "asdf\n",
    "### Home supply\n",
    "asdf"
   ]
  },
  {
   "cell_type": "markdown",
   "metadata": {},
   "source": [
    "## Load Data"
   ]
  },
  {
   "cell_type": "code",
   "execution_count": 50,
   "metadata": {},
   "outputs": [
    {
     "name": "stdout",
     "output_type": "stream",
     "text": [
      "          date  house_pi  unemp_rate         CPI  cons_sent  PI_const  \\\n",
      "0   2000-01-01    137.10         4.0   71.218520      112.0   172.300   \n",
      "1   2000-02-01    136.90         4.1   71.640431      111.3   172.300   \n",
      "2   2000-03-01    137.97         4.0   72.231106      107.1   172.400   \n",
      "3   2000-04-01    138.91         3.8   72.273297      109.2   172.700   \n",
      "4   2000-05-01    139.49         4.0   72.357679      110.7   172.600   \n",
      "..         ...       ...         ...         ...        ...       ...   \n",
      "265 2022-02-01    380.38         3.8  119.702806       62.8   293.693   \n",
      "266 2022-03-01    386.07         3.6  121.301004       59.4   294.221   \n",
      "267 2022-04-01    392.33         3.6  121.978170       65.2   302.832   \n",
      "268 2022-05-01    396.92         3.6  123.322800       58.4   304.699   \n",
      "269 2022-06-01    397.14         3.6  125.016771       50.0   305.899   \n",
      "\n",
      "     mortgage_int  personal_inc  corp_yield  home_supply  \n",
      "0            8.21        8382.6        7.78          4.3  \n",
      "1            8.33        8443.7        7.68          4.3  \n",
      "2            8.24        8503.7        7.68          4.3  \n",
      "3            8.15        8542.9        7.64          4.4  \n",
      "4            8.52        8580.9        7.99          4.4  \n",
      "..            ...           ...         ...          ...  \n",
      "265          3.76       21319.5        3.25          6.0  \n",
      "266          4.17       21434.3        3.43          7.0  \n",
      "267          4.98       21503.6        3.76          8.4  \n",
      "268          5.23       21624.3        4.13          8.3  \n",
      "269          5.52       21748.7        4.24          9.4  \n",
      "\n",
      "[270 rows x 10 columns]\n"
     ]
    }
   ],
   "source": [
    "# define series_id\n",
    "series_id_dict = {\"house_pi\": 'HPIPONM226S',\n",
    "                 \"unemp_rate\": \"UNRATE\",\n",
    "                 \"CPI\": \"USACPIALLMINMEI\",\n",
    "                 \"cons_sent\": \"UMCSENT\",\n",
    "                 \"PI_const\": \"PCU333120333120\",\n",
    "                 \"mortgage_int\": \"MORTGAGE30US\",\n",
    "                 \"personal_inc\": \"PI\",\n",
    "                 \"corp_yield\": \"AAA\",\n",
    "                 \"home_supply\": \"MSACSR\"}\n",
    "\n",
    "# get data folder path\n",
    "project_name = \"housing-price-index-us\"\n",
    "raw_data_path = os.path.join(os.environ[\"RESEARCH_PATH\"], project_name, \"data\", \"raw\")\n",
    "\n",
    "# get filename\n",
    "observation_start = \"2000-01-01\"\n",
    "observation_end = \"2022-06-30\"\n",
    "\n",
    "filename_list = []\n",
    "for id in series_id_dict:\n",
    "    filename_list.append(f\"data_{series_id_dict[id]}_{observation_start}_to_{observation_end}.feather\")\n",
    "\n",
    "\n",
    "# call the function to fetch the data from FRED API\n",
    "#data = pd.read_feather(os.path.join(raw_data_path, filename_list[0]))\n",
    "data = pd.read_feather(os.path.join(raw_data_path, filename_list[0])).iloc[:,0:1]\n",
    "    \n",
    "# join all data together in a single pd.DataFrame\n",
    "temp = 0\n",
    "for key, value in series_id_dict.items():\n",
    "    data[key] = pd.read_feather(os.path.join(raw_data_path, filename_list[temp])).iloc[:,1:]\n",
    "    temp += 1\n",
    "\n",
    "# change data type to float for all columns (but date)\n",
    "for key, value in series_id_dict.items():\n",
    "    data[key] = pd.to_numeric(data[key])\n",
    "\n",
    "data['date'] = pd.to_datetime(data['date'])\n",
    "\n",
    "        \n",
    "\n",
    "print(data)"
   ]
  },
  {
   "cell_type": "markdown",
   "metadata": {},
   "source": [
    "## EDA"
   ]
  },
  {
   "cell_type": "code",
   "execution_count": 51,
   "metadata": {},
   "outputs": [
    {
     "name": "stdout",
     "output_type": "stream",
     "text": [
      "        date  house_pi  unemp_rate        CPI  cons_sent  PI_const  \\\n",
      "0 2000-01-01    137.10         4.0  71.218520      112.0     172.3   \n",
      "1 2000-02-01    136.90         4.1  71.640431      111.3     172.3   \n",
      "2 2000-03-01    137.97         4.0  72.231106      107.1     172.4   \n",
      "3 2000-04-01    138.91         3.8  72.273297      109.2     172.7   \n",
      "4 2000-05-01    139.49         4.0  72.357679      110.7     172.6   \n",
      "\n",
      "   mortgage_int  personal_inc  corp_yield  home_supply  \n",
      "0          8.21        8382.6        7.78          4.3  \n",
      "1          8.33        8443.7        7.68          4.3  \n",
      "2          8.24        8503.7        7.68          4.3  \n",
      "3          8.15        8542.9        7.64          4.4  \n",
      "4          8.52        8580.9        7.99          4.4  \n",
      "******************************************************************************************\n",
      "(270, 10)\n",
      "******************************************************************************************\n",
      "date            datetime64[ns]\n",
      "house_pi               float64\n",
      "unemp_rate             float64\n",
      "CPI                    float64\n",
      "cons_sent              float64\n",
      "PI_const               float64\n",
      "mortgage_int           float64\n",
      "personal_inc           float64\n",
      "corp_yield             float64\n",
      "home_supply            float64\n",
      "dtype: object\n",
      "******************************************************************************************\n"
     ]
    }
   ],
   "source": [
    "print(data.head())\n",
    "print('******************************************************************************************')\n",
    "print(data.shape)\n",
    "print('******************************************************************************************')\n",
    "print(data.dtypes)\n",
    "print('******************************************************************************************')\n"
   ]
  },
  {
   "cell_type": "code",
   "execution_count": 42,
   "metadata": {},
   "outputs": [
    {
     "data": {
      "text/plain": [
       "str"
      ]
     },
     "execution_count": 42,
     "metadata": {},
     "output_type": "execute_result"
    }
   ],
   "source": [
    "type(data['date'][1])"
   ]
  },
  {
   "cell_type": "code",
   "execution_count": 33,
   "metadata": {},
   "outputs": [
    {
     "ename": "KeyError",
     "evalue": "'key of type tuple not found and not a MultiIndex'",
     "output_type": "error",
     "traceback": [
      "\u001b[1;31m---------------------------------------------------------------------------\u001b[0m",
      "\u001b[1;31mKeyError\u001b[0m                                  Traceback (most recent call last)",
      "\u001b[1;32m<ipython-input-33-ad421661a450>\u001b[0m in \u001b[0;36m<module>\u001b[1;34m\u001b[0m\n\u001b[0;32m      2\u001b[0m \u001b[0mtype\u001b[0m\u001b[1;33m(\u001b[0m\u001b[0mtest\u001b[0m\u001b[1;33m[\u001b[0m\u001b[1;36m2\u001b[0m\u001b[1;33m]\u001b[0m\u001b[1;33m)\u001b[0m\u001b[1;33m\u001b[0m\u001b[1;33m\u001b[0m\u001b[0m\n\u001b[0;32m      3\u001b[0m \u001b[1;31m#print(test.shape())\u001b[0m\u001b[1;33m\u001b[0m\u001b[1;33m\u001b[0m\u001b[1;33m\u001b[0m\u001b[0m\n\u001b[1;32m----> 4\u001b[1;33m \u001b[0mtest\u001b[0m\u001b[1;33m[\u001b[0m\u001b[1;33m:\u001b[0m\u001b[1;33m,\u001b[0m\u001b[1;36m1\u001b[0m\u001b[1;33m:\u001b[0m\u001b[1;33m]\u001b[0m\u001b[1;33m\u001b[0m\u001b[1;33m\u001b[0m\u001b[0m\n\u001b[0m",
      "\u001b[1;32m~\\anaconda3\\lib\\site-packages\\pandas\\core\\series.py\u001b[0m in \u001b[0;36m__getitem__\u001b[1;34m(self, key)\u001b[0m\n\u001b[0;32m   1005\u001b[0m             \u001b[1;32mreturn\u001b[0m \u001b[0mself\u001b[0m\u001b[1;33m.\u001b[0m\u001b[0m_get_values\u001b[0m\u001b[1;33m(\u001b[0m\u001b[0mkey\u001b[0m\u001b[1;33m)\u001b[0m\u001b[1;33m\u001b[0m\u001b[1;33m\u001b[0m\u001b[0m\n\u001b[0;32m   1006\u001b[0m \u001b[1;33m\u001b[0m\u001b[0m\n\u001b[1;32m-> 1007\u001b[1;33m         \u001b[1;32mreturn\u001b[0m \u001b[0mself\u001b[0m\u001b[1;33m.\u001b[0m\u001b[0m_get_with\u001b[0m\u001b[1;33m(\u001b[0m\u001b[0mkey\u001b[0m\u001b[1;33m)\u001b[0m\u001b[1;33m\u001b[0m\u001b[1;33m\u001b[0m\u001b[0m\n\u001b[0m\u001b[0;32m   1008\u001b[0m \u001b[1;33m\u001b[0m\u001b[0m\n\u001b[0;32m   1009\u001b[0m     \u001b[1;32mdef\u001b[0m \u001b[0m_get_with\u001b[0m\u001b[1;33m(\u001b[0m\u001b[0mself\u001b[0m\u001b[1;33m,\u001b[0m \u001b[0mkey\u001b[0m\u001b[1;33m)\u001b[0m\u001b[1;33m:\u001b[0m\u001b[1;33m\u001b[0m\u001b[1;33m\u001b[0m\u001b[0m\n",
      "\u001b[1;32m~\\anaconda3\\lib\\site-packages\\pandas\\core\\series.py\u001b[0m in \u001b[0;36m_get_with\u001b[1;34m(self, key)\u001b[0m\n\u001b[0;32m   1020\u001b[0m             )\n\u001b[0;32m   1021\u001b[0m         \u001b[1;32melif\u001b[0m \u001b[0misinstance\u001b[0m\u001b[1;33m(\u001b[0m\u001b[0mkey\u001b[0m\u001b[1;33m,\u001b[0m \u001b[0mtuple\u001b[0m\u001b[1;33m)\u001b[0m\u001b[1;33m:\u001b[0m\u001b[1;33m\u001b[0m\u001b[1;33m\u001b[0m\u001b[0m\n\u001b[1;32m-> 1022\u001b[1;33m             \u001b[1;32mreturn\u001b[0m \u001b[0mself\u001b[0m\u001b[1;33m.\u001b[0m\u001b[0m_get_values_tuple\u001b[0m\u001b[1;33m(\u001b[0m\u001b[0mkey\u001b[0m\u001b[1;33m)\u001b[0m\u001b[1;33m\u001b[0m\u001b[1;33m\u001b[0m\u001b[0m\n\u001b[0m\u001b[0;32m   1023\u001b[0m \u001b[1;33m\u001b[0m\u001b[0m\n\u001b[0;32m   1024\u001b[0m         \u001b[1;32melif\u001b[0m \u001b[1;32mnot\u001b[0m \u001b[0mis_list_like\u001b[0m\u001b[1;33m(\u001b[0m\u001b[0mkey\u001b[0m\u001b[1;33m)\u001b[0m\u001b[1;33m:\u001b[0m\u001b[1;33m\u001b[0m\u001b[1;33m\u001b[0m\u001b[0m\n",
      "\u001b[1;32m~\\anaconda3\\lib\\site-packages\\pandas\\core\\series.py\u001b[0m in \u001b[0;36m_get_values_tuple\u001b[1;34m(self, key)\u001b[0m\n\u001b[0;32m   1058\u001b[0m \u001b[1;33m\u001b[0m\u001b[0m\n\u001b[0;32m   1059\u001b[0m         \u001b[1;32mif\u001b[0m \u001b[1;32mnot\u001b[0m \u001b[0misinstance\u001b[0m\u001b[1;33m(\u001b[0m\u001b[0mself\u001b[0m\u001b[1;33m.\u001b[0m\u001b[0mindex\u001b[0m\u001b[1;33m,\u001b[0m \u001b[0mMultiIndex\u001b[0m\u001b[1;33m)\u001b[0m\u001b[1;33m:\u001b[0m\u001b[1;33m\u001b[0m\u001b[1;33m\u001b[0m\u001b[0m\n\u001b[1;32m-> 1060\u001b[1;33m             \u001b[1;32mraise\u001b[0m \u001b[0mKeyError\u001b[0m\u001b[1;33m(\u001b[0m\u001b[1;34m\"key of type tuple not found and not a MultiIndex\"\u001b[0m\u001b[1;33m)\u001b[0m\u001b[1;33m\u001b[0m\u001b[1;33m\u001b[0m\u001b[0m\n\u001b[0m\u001b[0;32m   1061\u001b[0m \u001b[1;33m\u001b[0m\u001b[0m\n\u001b[0;32m   1062\u001b[0m         \u001b[1;31m# If key is contained, would have returned by now\u001b[0m\u001b[1;33m\u001b[0m\u001b[1;33m\u001b[0m\u001b[1;33m\u001b[0m\u001b[0m\n",
      "\u001b[1;31mKeyError\u001b[0m: 'key of type tuple not found and not a MultiIndex'"
     ]
    }
   ],
   "source": [
    "test = pd.to_datetime(data['date'])\n",
    "type(test[2])\n",
    "#print(test.shape())"
   ]
  },
  {
   "cell_type": "code",
   "execution_count": null,
   "metadata": {},
   "outputs": [],
   "source": []
  }
 ],
 "metadata": {
  "kernelspec": {
   "display_name": "Python 3",
   "language": "python",
   "name": "python3"
  },
  "language_info": {
   "codemirror_mode": {
    "name": "ipython",
    "version": 3
   },
   "file_extension": ".py",
   "mimetype": "text/x-python",
   "name": "python",
   "nbconvert_exporter": "python",
   "pygments_lexer": "ipython3",
   "version": "3.8.5"
  }
 },
 "nbformat": 4,
 "nbformat_minor": 4
}
