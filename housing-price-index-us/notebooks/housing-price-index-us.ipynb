{
 "cells": [
  {
   "cell_type": "markdown",
   "metadata": {},
   "source": [
    "# Effect of prominent Macroeconomic factors on the Housing Price Index in the United States"
   ]
  },
  {
   "cell_type": "markdown",
   "metadata": {},
   "source": [
    "## Load Packages"
   ]
  },
  {
   "cell_type": "code",
   "execution_count": 3,
   "metadata": {},
   "outputs": [],
   "source": [
    "import os\n",
    "import pandas as pd\n",
    "import numpy as np\n",
    "import seaborn as sns\n",
    "import matplotlib.pyplot as plt\n",
    "import sklearn\n",
    "from sklearn.model_selection import train_test_split\n",
    "from sklearn.metrics import r2_score"
   ]
  },
  {
   "cell_type": "markdown",
   "metadata": {},
   "source": [
    "## Load Data"
   ]
  },
  {
   "cell_type": "markdown",
   "metadata": {},
   "source": [
    "### Purchase only house price index\n",
    "asdf\n",
    "### Unemployment rate\n",
    "asdf\n",
    "### Consumer price index\n",
    "asdf\n",
    "### Inflation rate US\n",
    "asdf\n",
    "### Consumer sentiment\n",
    "asdf\n",
    "### Producer price index construction machinery manufacturing\n",
    "asdf\n",
    "### Average mortgage interest\n",
    "asdf\n",
    "### Personal income\n",
    "asdf\n",
    "### Moody's seasoned AAA corporate bond yield\n",
    "asdf\n",
    "### Home supply\n",
    "asdf"
   ]
  },
  {
   "cell_type": "markdown",
   "metadata": {},
   "source": [
    "## Load Data"
   ]
  },
  {
   "cell_type": "code",
   "execution_count": 95,
   "metadata": {},
   "outputs": [
    {
     "name": "stdout",
     "output_type": "stream",
     "text": [
      "['data_HPIPONM226S_2000-01-01_to_2022-06-30.feather', 'data_UNRATE_2000-01-01_to_2022-06-30.feather', 'data_USACPIALLMINMEI_2000-01-01_to_2022-06-30.feather', 'data_T10YIEM_2000-01-01_to_2022-06-30.feather', 'data_UMCSENT_2000-01-01_to_2022-06-30.feather', 'data_PCU333120333120_2000-01-01_to_2022-06-30.feather', 'data_MORTGAGE30US_2000-01-01_to_2022-06-30.feather', 'data_PI_2000-01-01_to_2022-06-30.feather', 'data_AAA_2000-01-01_to_2022-06-30.feather', 'data_MSACSR_2000-01-01_to_2022-06-30.feather']\n",
      "           date   value  snd  trd\n",
      "0    2000-01-01   137.1  4.0  4.0\n",
      "1    2000-02-01   136.9  4.1  4.1\n",
      "2    2000-03-01  137.97  4.0  4.0\n",
      "3    2000-04-01  138.91  3.8  3.8\n",
      "4    2000-05-01  139.49  4.0  4.0\n",
      "..          ...     ...  ...  ...\n",
      "265  2022-02-01  380.38  3.8  3.8\n",
      "266  2022-03-01  386.07  3.6  3.6\n",
      "267  2022-04-01  392.33  3.6  3.6\n",
      "268  2022-05-01  396.92  3.6  3.6\n",
      "269  2022-06-01  397.14  3.6  3.6\n",
      "\n",
      "[270 rows x 4 columns]\n",
      "           date value\n",
      "0    2000-01-01   4.0\n",
      "1    2000-02-01   4.1\n",
      "2    2000-03-01   4.0\n",
      "3    2000-04-01   3.8\n",
      "4    2000-05-01   4.0\n",
      "..          ...   ...\n",
      "265  2022-02-01   3.8\n",
      "266  2022-03-01   3.6\n",
      "267  2022-04-01   3.6\n",
      "268  2022-05-01   3.6\n",
      "269  2022-06-01   3.6\n",
      "\n",
      "[270 rows x 2 columns]\n"
     ]
    }
   ],
   "source": [
    "# define series_id\n",
    "series_id_dict = {\"house_pi\": 'HPIPONM226S',\n",
    "                 \"unemp_rate\": \"UNRATE\",\n",
    "                 \"CPI\": \"USACPIALLMINMEI\",\n",
    "                 \"infl\": \"T10YIEM\",\n",
    "                 \"cons_sent\": \"UMCSENT\",\n",
    "                 \"PI_const\": \"PCU333120333120\",\n",
    "                 \"mortgage_int\": \"MORTGAGE30US\",\n",
    "                 \"personal_inc\": \"PI\",\n",
    "                 \"corp_yield\": \"AAA\",\n",
    "                 \"home_supply\": \"MSACSR\"}\n",
    "\n",
    "# get data folder path\n",
    "project_name = \"housing-price-index-us\"\n",
    "raw_data_path = os.path.join(os.environ[\"RESEARCH_PATH\"], project_name, \"data\", \"raw\")\n",
    "\n",
    "# get filename\n",
    "observation_start = \"2000-01-01\"\n",
    "observation_end = \"2022-06-30\"\n",
    "\n",
    "filename_list = []\n",
    "for id in series_id_dict:\n",
    "    filename_list.append(f\"data_{series_id_dict[id]}_{observation_start}_to_{observation_end}.feather\")\n",
    "\n",
    "print(filename_list)\n",
    "\n",
    "# call the function to fetch the data from FRED API\n",
    "data = pd.read_feather(os.path.join(raw_data_path, filename_list[0]))\n",
    "\n",
    "data2 = pd.read_feather(os.path.join(raw_data_path, filename_list[1]))\n",
    "data['snd'] = data2.iloc[:,1:]\n",
    "data3 = pd.read_feather(os.path.join(raw_data_path, filename_list[2]))\n",
    "data['trd'] = data2.iloc[:,1:]\n",
    "\n",
    "print(data)\n",
    "print(data2)"
   ]
  },
  {
   "cell_type": "code",
   "execution_count": 82,
   "metadata": {},
   "outputs": [
    {
     "ename": "AttributeError",
     "evalue": "'NoneType' object has no attribute 'insert'",
     "output_type": "error",
     "traceback": [
      "\u001b[1;31m---------------------------------------------------------------------------\u001b[0m",
      "\u001b[1;31mAttributeError\u001b[0m                            Traceback (most recent call last)",
      "\u001b[1;32m<ipython-input-82-05409a11c4d2>\u001b[0m in \u001b[0;36m<module>\u001b[1;34m\u001b[0m\n\u001b[0;32m     32\u001b[0m         \u001b[1;32mcontinue\u001b[0m\u001b[1;33m\u001b[0m\u001b[1;33m\u001b[0m\u001b[0m\n\u001b[0;32m     33\u001b[0m     \u001b[1;32melse\u001b[0m\u001b[1;33m:\u001b[0m\u001b[1;33m\u001b[0m\u001b[1;33m\u001b[0m\u001b[0m\n\u001b[1;32m---> 34\u001b[1;33m         \u001b[0mdata\u001b[0m \u001b[1;33m=\u001b[0m \u001b[0mdata\u001b[0m\u001b[1;33m.\u001b[0m\u001b[0minsert\u001b[0m\u001b[1;33m(\u001b[0m\u001b[0mrunner\u001b[0m\u001b[1;33m,\u001b[0m \u001b[1;34mf\"{i}\"\u001b[0m\u001b[1;33m,\u001b[0m \u001b[0mpd\u001b[0m\u001b[1;33m.\u001b[0m\u001b[0mread_feather\u001b[0m\u001b[1;33m(\u001b[0m\u001b[0mos\u001b[0m\u001b[1;33m.\u001b[0m\u001b[0mpath\u001b[0m\u001b[1;33m.\u001b[0m\u001b[0mjoin\u001b[0m\u001b[1;33m(\u001b[0m\u001b[0mraw_data_path\u001b[0m\u001b[1;33m,\u001b[0m \u001b[0mfilename_list\u001b[0m\u001b[1;33m[\u001b[0m\u001b[0mrunner\u001b[0m\u001b[1;33m]\u001b[0m\u001b[1;33m)\u001b[0m\u001b[1;33m)\u001b[0m\u001b[1;33m.\u001b[0m\u001b[0miloc\u001b[0m\u001b[1;33m[\u001b[0m\u001b[1;33m:\u001b[0m\u001b[1;33m,\u001b[0m\u001b[1;36m1\u001b[0m\u001b[1;33m:\u001b[0m\u001b[1;33m]\u001b[0m\u001b[1;33m)\u001b[0m\u001b[1;33m\u001b[0m\u001b[1;33m\u001b[0m\u001b[0m\n\u001b[0m\u001b[0;32m     35\u001b[0m         \u001b[0mrunner\u001b[0m \u001b[1;33m+=\u001b[0m \u001b[1;36m1\u001b[0m\u001b[1;33m\u001b[0m\u001b[1;33m\u001b[0m\u001b[0m\n\u001b[0;32m     36\u001b[0m \u001b[1;33m\u001b[0m\u001b[0m\n",
      "\u001b[1;31mAttributeError\u001b[0m: 'NoneType' object has no attribute 'insert'"
     ]
    }
   ],
   "source": [
    "runner = 0\n",
    "for i in series_id_dict:\n",
    "    if runner == 0:\n",
    "        runner += 1\n",
    "        continue\n",
    "    else:\n",
    "        data = data.insert(runner, f\"{i}\", pd.read_feather(os.path.join(raw_data_path, filename_list[runner])).iloc[:,1:])\n",
    "        runner += 1\n",
    "\n",
    "data.head()    \n",
    "data.tail()"
   ]
  },
  {
   "cell_type": "code",
   "execution_count": 78,
   "metadata": {},
   "outputs": [
    {
     "name": "stdout",
     "output_type": "stream",
     "text": [
      "house_pi\n",
      "unemp_rate\n",
      "CPI\n",
      "infl\n",
      "cons_sent\n",
      "PI_const\n",
      "mortgage_int\n",
      "personal_inc\n",
      "corp_yield\n",
      "home_supply\n"
     ]
    }
   ],
   "source": [
    "for i in series_id_dict:\n",
    "    print(i)"
   ]
  },
  {
   "cell_type": "code",
   "execution_count": 11,
   "metadata": {},
   "outputs": [
    {
     "name": "stdout",
     "output_type": "stream",
     "text": [
      "1\n",
      "2\n"
     ]
    }
   ],
   "source": [
    "for i in range(1,3):\n",
    "    print(i)"
   ]
  }
 ],
 "metadata": {
  "kernelspec": {
   "display_name": "Python 3",
   "language": "python",
   "name": "python3"
  },
  "language_info": {
   "codemirror_mode": {
    "name": "ipython",
    "version": 3
   },
   "file_extension": ".py",
   "mimetype": "text/x-python",
   "name": "python",
   "nbconvert_exporter": "python",
   "pygments_lexer": "ipython3",
   "version": "3.8.5"
  }
 },
 "nbformat": 4,
 "nbformat_minor": 4
}
