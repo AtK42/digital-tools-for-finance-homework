{
 "cells": [
  {
   "cell_type": "markdown",
   "metadata": {},
   "source": [
    "# Effect of prominent Macroeconomic factors on the Housing Price Index in the United States"
   ]
  },
  {
   "cell_type": "markdown",
   "metadata": {},
   "source": [
    "## Load Packages"
   ]
  },
  {
   "cell_type": "code",
   "execution_count": null,
   "metadata": {},
   "outputs": [],
   "source": [
    "import os\n",
    "import pandas as pd\n",
    "import numpy as np\n",
    "import seaborn as sns\n",
    "import matplotlib.pyplot as plt\n",
    "import sklearn\n",
    "from sklearn.model_selection import train_test_split\n",
    "from sklearn.metrics import r2_score\n",
    "import math"
   ]
  },
  {
   "cell_type": "markdown",
   "metadata": {},
   "source": [
    "## Load Data"
   ]
  },
  {
   "cell_type": "markdown",
   "metadata": {},
   "source": [
    "### Variables\n",
    "- Purchase only house price index: asdf\n",
    "- Unemployment rate: asdf\n",
    "- Consumer price index: asdf\n",
    "- Inflation rate US: asdf\n",
    "- Consumer sentiment: asdf\n",
    "- Producer price index construction machinery manufacturing: asdf\n",
    "- Average mortgage interest: asdf\n",
    "- Personal income: asdf\n",
    "- Moody's seasoned AAA corporate bond yield: asdf\n",
    "- Home supply: asdf"
   ]
  },
  {
   "cell_type": "markdown",
   "metadata": {},
   "source": [
    "## Import data"
   ]
  },
  {
   "cell_type": "code",
   "execution_count": null,
   "metadata": {},
   "outputs": [],
   "source": [
    "# define series_id\n",
    "series_id_dict = {\"house_pi\": 'HPIPONM226S',\n",
    "                 \"unemp_rate\": \"UNRATE\",\n",
    "                 \"CPI\": \"USACPIALLMINMEI\",\n",
    "                 \"cons_sent\": \"UMCSENT\",\n",
    "                 \"PI_const\": \"PCU333120333120\",\n",
    "                 \"mortgage_int\": \"MORTGAGE30US\",\n",
    "                 \"personal_inc\": \"PI\",\n",
    "                 \"corp_yield\": \"AAA\",\n",
    "                 \"home_supply\": \"MSACSR\"}\n",
    "\n",
    "# get data folder path\n",
    "project_name = \"housing-price-index-us\"\n",
    "raw_data_path = os.path.join(os.environ[\"RESEARCH_PATH\"], project_name, \"data\", \"raw\")\n",
    "\n",
    "# get filename\n",
    "observation_start = \"2000-01-01\"\n",
    "observation_end = \"2022-06-30\"\n",
    "\n",
    "filename_list = []\n",
    "for id in series_id_dict:\n",
    "    filename_list.append(f\"data_{series_id_dict[id]}_{observation_start}_to_{observation_end}.feather\")\n",
    "\n",
    "\n",
    "# call the function to fetch the data from FRED API\n",
    "#data = pd.read_feather(os.path.join(raw_data_path, filename_list[0]))\n",
    "data = pd.read_feather(os.path.join(raw_data_path, filename_list[0])).iloc[:,0:1]\n",
    "    \n",
    "# join all data together in a single pd.DataFrame\n",
    "temp = 0\n",
    "for key, value in series_id_dict.items():\n",
    "    data[key] = pd.read_feather(os.path.join(raw_data_path, filename_list[temp])).iloc[:,1:]\n",
    "    temp += 1\n",
    "\n",
    "# change data type to float for all columns (but date)\n",
    "for key, value in series_id_dict.items():\n",
    "    data[key] = pd.to_numeric(data[key])\n",
    "\n",
    "data['date'] = pd.to_datetime(data['date'])        \n",
    "\n",
    "#print(data)"
   ]
  },
  {
   "cell_type": "markdown",
   "metadata": {},
   "source": [
    "## EDA"
   ]
  },
  {
   "cell_type": "markdown",
   "metadata": {},
   "source": [
    "### preliminary/high-level EDA"
   ]
  },
  {
   "cell_type": "code",
   "execution_count": null,
   "metadata": {},
   "outputs": [],
   "source": [
    "#print(data.head())\n",
    "print('******************************************************************************************')\n",
    "#print(data.shape)\n",
    "print('******************************************************************************************')\n",
    "#print(data.dtypes) # all floats except for 'date' which is datetime\n",
    "print('******************************************************************************************')\n",
    "#print(data.info())\n",
    "print('******************************************************************************************')\n",
    "print(data.isnull().sum()) # no null data"
   ]
  },
  {
   "cell_type": "markdown",
   "metadata": {},
   "source": [
    "### some further EDA"
   ]
  },
  {
   "cell_type": "code",
   "execution_count": null,
   "metadata": {},
   "outputs": [],
   "source": [
    "# plot how each variable evolves over time\n",
    "cols = data.columns[1:,] # don't plot date against itself\n",
    "n_rows = math.ceil(len(cols) / 4)\n",
    "figsize_height = n_rows * 5\n",
    "k = 1\n",
    "plt.figure(figsize = (25, figsize_height))\n",
    "for i in cols:\n",
    "    plt.subplot(n_rows, 4, k)\n",
    "    sns.scatterplot(data = data, x = data['date'], y = i, size = 5, legend = False)\n",
    "    k += 1"
   ]
  },
  {
   "cell_type": "markdown",
   "metadata": {},
   "source": [
    "Interpretation:\n",
    "- 'house_pi' has a clearly upwards-sloping trend with a serious uptick in the years leading up to the year 2007/08. This is not surprising as we know today that in the build-up of the subprime crisis real estate prices skyrocketed before the housing price bubble burst. After a short period of price corrections up until ca. the year 2012, the prices have again risen and still are.\n",
    "- 'unemp_rate' has seen upticks after every major crisis - dotcom bubble in the early 21st century, the financial crisis starting in 2008 and very recently the Corona pandemic.\n",
    "- 'CPI' has steadily risen since the the beginning of the 21st century. Since and because of the corona pandemic and additionally fuelled by the on-going war in eastern Europe, we have seen major yoy increases in inflation. Central banks around the world have tried to get inflation under control by increasing interest rates which has not shown much effect up to the end of our sample time.\n",
    "- 'cons_sent' paints a somewhat cyclical picture, marked by the recessions caused by the big crises in the 21st century thus far, as mentioned above.\n",
    "- 'PI_const' looks, unsurprisingly, very similar to the broader 'CSI'. As such, it is also in line with our expectations.\n",
    "- Up until ca. 2020, 'mortagage_int' exhibits a clear downwards-sloping trend sparked yet again by the recent crises. Since 2020, however, we observe a turnaround which is in close connection to the effort of central banks (especially the FED) to curb inflation.\n",
    "- 'personal_inc' has experienced a steady upwards-sloping trend since the start date of our data set which obviously follows from the increase in inflation over the past centuries. Note, however, that naturally due to the nature of salary negotiations, the line is much smoother compared to the one of 'CPI'.\n",
    "- 'corp_yield' has a very similar evolution over time as 'mortgage_int' which is not particularly surprising since for both, the prime rate has a very big impact.\n",
    "- Lastly, the 'home_supply' has a slight upwards-sloping trend with a huge upwards move shortly before the subprime crisis. Notice, that while 'house_pi' started increasing rapidly after its low point, 'home_supply' had more of a slow trod before its volatilty started increasing from the year 2020 onwards."
   ]
  },
  {
   "cell_type": "code",
   "execution_count": null,
   "metadata": {},
   "outputs": [],
   "source": [
    "# plot all variables against the housing price index\n",
    "cols = data.columns[2:,] # don't plot housing index against itself + see above for plot against time\n",
    "n_rows = math.ceil(len(cols) / 4)\n",
    "figsize_height = n_rows * 5\n",
    "k = 1\n",
    "plt.figure(figsize = (25, figsize_height))\n",
    "for i in cols:\n",
    "    plt.subplot(n_rows, 4, k)\n",
    "    sns.scatterplot(data = data, x = i, y = data['house_pi'], size = 5, legend = False)\n",
    "    k += 1"
   ]
  },
  {
   "cell_type": "code",
   "execution_count": null,
   "metadata": {},
   "outputs": [],
   "source": [
    "# distribution of the variables\n",
    "cols = data.columns[1:,] #don't plot time since it's obviously uniformely distributed\n",
    "n_rows = math.ceil(len(cols) / 4)\n",
    "figsize_height = n_rows * 5\n",
    "k = 1\n",
    "plt.figure(figsize = (25, figsize_height))\n",
    "for i in cols:\n",
    "    plt.subplot(n_rows, 4, k)\n",
    "    sns.histplot(data = data[i], stat = 'probability', kde = True)\n",
    "    k += 1"
   ]
  },
  {
   "cell_type": "code",
   "execution_count": null,
   "metadata": {},
   "outputs": [],
   "source": [
    "# correlation between the variables\n",
    "plt.figure(figsize = (12, 8))\n",
    "sns.heatmap(data.corr(), cmap = 'RdBu', annot = True)\n",
    "plt.title('Correlation between variables')\n",
    "plt.show()"
   ]
  },
  {
   "cell_type": "markdown",
   "metadata": {},
   "source": [
    "## Modelling"
   ]
  },
  {
   "cell_type": "markdown",
   "metadata": {},
   "source": [
    "### Splitting data into training and test set"
   ]
  },
  {
   "cell_type": "code",
   "execution_count": null,
   "metadata": {},
   "outputs": [],
   "source": []
  }
 ],
 "metadata": {
  "kernelspec": {
   "display_name": "Python 3.7.9 64-bit",
   "language": "python",
   "name": "python3"
  },
  "language_info": {
   "codemirror_mode": {
    "name": "ipython",
    "version": 3
   },
   "file_extension": ".py",
   "mimetype": "text/x-python",
   "name": "python",
   "nbconvert_exporter": "python",
   "pygments_lexer": "ipython3",
   "version": "3.7.9"
  },
  "vscode": {
   "interpreter": {
    "hash": "6f0a568aece6fe8ed664c83975fa83cefa82d68b5487051d6ce307809a182275"
   }
  }
 },
 "nbformat": 4,
 "nbformat_minor": 4
}
